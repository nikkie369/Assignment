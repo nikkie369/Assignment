{
 "cells": [
  {
   "cell_type": "markdown",
   "id": "8b4d625f",
   "metadata": {},
   "source": [
    "HOMEWORK 28 MAY 2022"
   ]
  },
  {
   "cell_type": "code",
   "execution_count": 2,
   "id": "b7757ccd",
   "metadata": {},
   "outputs": [
    {
     "name": "stdout",
     "output_type": "stream",
     "text": [
      "ineuron \n",
      "\n",
      "ineuron ineuron \n",
      "\n",
      "ineuron ineuron ineuron \n",
      "\n",
      "ineuron ineuron ineuron ineuron \n",
      "\n"
     ]
    }
   ],
   "source": [
    "#QUES1\n",
    "n=4\n",
    "for i in range(0,n):\n",
    "    for j in range(0,i+1):\n",
    "        print(\"ineuron\", end=\" \")\n",
    "    print(\"\\n\")  "
   ]
  },
  {
   "cell_type": "code",
   "execution_count": 13,
   "id": "99d9c692",
   "metadata": {
    "scrolled": false
   },
   "outputs": [
    {
     "name": "stdout",
     "output_type": "stream",
     "text": [
      "                ineuron        \n",
      "\n",
      "        ineuron        ineuron        \n",
      "\n",
      "ineuron        ineuron        ineuron        \n",
      "\n",
      "        ineuron        ineuron        \n",
      "\n",
      "                ineuron        \n",
      "\n"
     ]
    }
   ],
   "source": [
    "#QUES2\n",
    "n=5\n",
    "for i in range(0,n):\n",
    "    if(i<=int(n/2)):\n",
    "        for j in range(0,int(n/2)-i):\n",
    "            print(\" \"*len(\"ineuron\"),end =\" \")\n",
    "        for j in range(0,i+1):\n",
    "            print(\"ineuron\",end=\" \")\n",
    "            print(\" \"*len(\"ineuron\"),end=\"\")\n",
    "        print(\"\\n\")\n",
    "    else:\n",
    "        for j in range(0,i-int(n/2)):\n",
    "            print(\" \"*len(\"ineuron\"),end =\" \")\n",
    "        for j in range(0,n-i):\n",
    "            print(\"ineuron\",end=\" \")\n",
    "            print(\" \"*len(\"ineuron\"),end=\"\")\n",
    "        print(\"\\n\")\n",
    "            \n",
    "     "
   ]
  },
  {
   "cell_type": "code",
   "execution_count": 14,
   "id": "a89a0cf2",
   "metadata": {},
   "outputs": [],
   "source": [
    "l=[[1,2,3,4],(2,3,4,5,6),(3,4,5,6,7),\n",
    "   set([23,4,5,45,4,4,5,45,45,4,5]),\n",
    "   {'k1':'sudh','k2':'ineuron','k3':\"kumar\",3:6,7:8},\n",
    "   [\"ineuron\",\"data science\"]\n",
    "  ]"
   ]
  },
  {
   "cell_type": "code",
   "execution_count": 22,
   "id": "99ae10b6",
   "metadata": {},
   "outputs": [
    {
     "name": "stdout",
     "output_type": "stream",
     "text": [
      "[1, 2, 3, 4] : 1 , 2 , 3 , 4 \n",
      "\n",
      "['ineuron', 'data science'] : ineuron , data science \n",
      "\n"
     ]
    }
   ],
   "source": [
    "#ques3 Try to extract all the list entity\n",
    "for i in l:\n",
    "    if (type(i)==list):\n",
    "        print(i,\":\",end=\" \")\n",
    "        for j in range(len(i)):\n",
    "            print(i[j], end=\" \")\n",
    "            if(j<len(i)-1):\n",
    "                print(\",\" ,end=\" \")\n",
    "        print(\"\\n\")"
   ]
  },
  {
   "cell_type": "code",
   "execution_count": 24,
   "id": "93fe25ad",
   "metadata": {},
   "outputs": [
    {
     "name": "stdout",
     "output_type": "stream",
     "text": [
      "dict_items([('k1', 'sudh'), ('k2', 'ineuron'), ('k3', 'kumar'), (3, 6), (7, 8)])\n"
     ]
    }
   ],
   "source": [
    "#ques4 Try to extract all the dict entinty\n",
    "for i in l:\n",
    "    if(type(i)==dict):\n",
    "        print(i.items())\n",
    "        "
   ]
  },
  {
   "cell_type": "code",
   "execution_count": 29,
   "id": "39c513e7",
   "metadata": {},
   "outputs": [
    {
     "name": "stdout",
     "output_type": "stream",
     "text": [
      "(2, 3, 4, 5, 6) : 0 , 1 , 2 , 3 , 4 \n",
      "\n",
      "(3, 4, 5, 6, 7) : 0 , 1 , 2 , 3 , 4 \n",
      "\n"
     ]
    }
   ],
   "source": [
    "#ques5 try to extract all the tuples entity\n",
    "for i in l:\n",
    "    if(type(i)==tuple):\n",
    "        print(i,\":\", end=\" \")\n",
    "        for j in range(len(i)):\n",
    "            print(j,end=\" \")\n",
    "            if (j<len(i)-1):\n",
    "                print(\",\",end=\" \")\n",
    "        print(\"\\n\")"
   ]
  },
  {
   "cell_type": "code",
   "execution_count": 37,
   "id": "271dd38b",
   "metadata": {},
   "outputs": [
    {
     "name": "stdout",
     "output_type": "stream",
     "text": [
      "1 2 3 4 \n",
      "\n",
      "2 3 4 5 6 \n",
      "\n",
      "3 4 5 6 7 \n",
      "\n",
      "45 4 5 23 \n",
      "\n",
      "3 6 7 8 \n",
      "\n",
      "\n",
      "\n"
     ]
    }
   ],
   "source": [
    "#ques6 Try to extract all numerical data it may be part of \n",
    "#.     dict key and values\n",
    "for i in l:\n",
    "    if(type(i)==dict):\n",
    "        for j,v in i.items():\n",
    "            if(type(j)==int):\n",
    "                print(j,end=\" \")\n",
    "            if(type(v)==int):\n",
    "                print(v,end=\" \")\n",
    "        print(\"\\n\")\n",
    "    else:\n",
    "        for j in i:\n",
    "            if(type(j)==int):\n",
    "                print(j,end=\" \")\n",
    "        print(\"\\n\")\n",
    "        \n",
    "        "
   ]
  },
  {
   "cell_type": "code",
   "execution_count": 41,
   "id": "34447097",
   "metadata": {},
   "outputs": [
    {
     "name": "stdout",
     "output_type": "stream",
     "text": [
      "156\n"
     ]
    }
   ],
   "source": [
    "#ques7 Try to give summation of all the numeric data\n",
    "sum=0\n",
    "for i in l:\n",
    "    if(type(i)==dict):\n",
    "        for j,v in i.items():\n",
    "            if(type(j)==int):\n",
    "                sum=sum+j\n",
    "            if(type(v)==int):\n",
    "                sum=sum+v\n",
    "    else:\n",
    "        for j in i:\n",
    "            if(type(j)==int):\n",
    "                sum=sum+j\n",
    "print(sum)"
   ]
  },
  {
   "cell_type": "code",
   "execution_count": 50,
   "id": "eee3a56f",
   "metadata": {},
   "outputs": [
    {
     "name": "stdout",
     "output_type": "stream",
     "text": [
      "1 3 \n",
      "\n",
      "3 5 \n",
      "\n",
      "3 5 7 \n",
      "\n",
      "45 5 23 \n",
      "\n",
      "3 7 \n",
      "\n",
      "\n",
      "\n"
     ]
    }
   ],
   "source": [
    "#ques8 Try to filter out all the odd values out of all\n",
    "#      numeric data which is a part of a list\n",
    "for i in l:\n",
    "    if(type(i)==dict):\n",
    "        for j,v in i.items():\n",
    "            if(type(j)==int):\n",
    "                if(j%2!=0):\n",
    "                    print(j,end=\" \")\n",
    "            if(type(v)==int):\n",
    "                if(v%2!=0):\n",
    "                    print(v,end=\" \")\n",
    "        print(\"\\n\")\n",
    "    else:\n",
    "        for j in i:\n",
    "            if(type(j)==int):\n",
    "                if(j%2!=0):\n",
    "                    print(j,end=\" \")\n",
    "        print(\"\\n\")"
   ]
  },
  {
   "cell_type": "code",
   "execution_count": 83,
   "id": "a78a219f",
   "metadata": {},
   "outputs": [],
   "source": [
    "#ques9 Try to extract \"ineuron\" out of this data\n",
    "for i in l:\n",
    "    if(type(i)==dict):\n",
    "        for j,v in i.items():\n",
    "            if(type(j)==str and j.upper()=='INEURON'):\n",
    "                print(j)\n",
    "            if(type(v)==str and v.upper()=='INEURON'):\n",
    "                print(v)\n",
    "    else:\n",
    "        for j in i:\n",
    "            if(type(j)==str and j.upp=='INEURON'):\n",
    "                print(j)\n",
    "            \n",
    "        "
   ]
  },
  {
   "cell_type": "code",
   "execution_count": 65,
   "id": "a944a85f",
   "metadata": {},
   "outputs": [
    {
     "name": "stdout",
     "output_type": "stream",
     "text": [
      "k3 : 1\n",
      "1 : 1\n",
      "2 : 2\n",
      "3 : 4\n",
      "4 : 4\n",
      "5 : 3\n",
      "6 : 3\n",
      "7 : 2\n",
      "ineuron : 2\n",
      "kumar : 1\n",
      "8 : 1\n",
      "45 : 1\n",
      "23 : 1\n",
      "data science : 1\n",
      "sudh : 1\n",
      "k2 : 1\n",
      "k1 : 1\n"
     ]
    }
   ],
   "source": [
    "#ques10 Try to find out a number of occurances of all the data\n",
    "\n",
    "l1=[]\n",
    "for i in l:\n",
    "    if(type(i)==dict):\n",
    "        for j,v in i.items():\n",
    "            l1.append(j)\n",
    "            l1.append(v)\n",
    "            \n",
    "    else:\n",
    "        for j in i:\n",
    "            l1.append(j)\n",
    "for i in set(l1):\n",
    "    print(i,\":\", l1.count(i))"
   ]
  },
  {
   "cell_type": "code",
   "execution_count": 69,
   "id": "b13bd25b",
   "metadata": {},
   "outputs": [
    {
     "name": "stdout",
     "output_type": "stream",
     "text": [
      "5\n"
     ]
    }
   ],
   "source": [
    "#ques11 Try to find out number of keys in dict element\n",
    "count=0\n",
    "for i in l:\n",
    "    if(type(i)==dict):\n",
    "        for j in i:\n",
    "            if(j is not None):\n",
    "                count=count+1\n",
    "print(count)"
   ]
  },
  {
   "cell_type": "code",
   "execution_count": 71,
   "id": "5339e5d7",
   "metadata": {},
   "outputs": [
    {
     "name": "stdout",
     "output_type": "stream",
     "text": [
      "k1\n",
      "sudh\n",
      "k2\n",
      "ineuron\n",
      "k3\n",
      "kumar\n",
      "ineuron\n",
      "data science\n"
     ]
    }
   ],
   "source": [
    "#ques12 Try to filter out all the string data\n",
    "for i in l:\n",
    "    if(type(i)==dict):\n",
    "        for j,v in i.items(): \n",
    "            if(type(j)==str):\n",
    "                print(j)\n",
    "            if(type(v)==str):\n",
    "                print(v)\n",
    "            \n",
    "    else:\n",
    "        for j in i:\n",
    "            if(type(j)==str):\n",
    "                print(j)\n",
    "            \n",
    "            \n",
    "        "
   ]
  },
  {
   "cell_type": "code",
   "execution_count": 77,
   "id": "edc60ae6",
   "metadata": {},
   "outputs": [
    {
     "name": "stdout",
     "output_type": "stream",
     "text": [
      "k1\n",
      "sudh\n",
      "k2\n",
      "ineuron\n",
      "k3\n",
      "kumar\n",
      "ineuron\n"
     ]
    }
   ],
   "source": [
    "#ques13 Try to find out alphanum in data\n",
    "\n",
    "for i in l:\n",
    "    if(type(i)==dict):\n",
    "        for j,v in i.items(): \n",
    "            if(type(j)==str and j.isalnum()):\n",
    "                print(j)\n",
    "            if(type(v)==str and j.isalnum()):\n",
    "                print(v)\n",
    "            \n",
    "    else:\n",
    "        for j in i:\n",
    "            if(type(j)==str and j.isalnum()):\n",
    "                print(j)"
   ]
  },
  {
   "cell_type": "code",
   "execution_count": 82,
   "id": "5a1ab3d7",
   "metadata": {},
   "outputs": [
    {
     "name": "stdout",
     "output_type": "stream",
     "text": [
      "24\n",
      "720\n",
      "2520\n",
      "20700\n",
      "1008\n"
     ]
    }
   ],
   "source": [
    "#ques14 Try to find out multiplication of all numeric value in\n",
    "#       the individual collection inside dataset\n",
    "mul=1\n",
    "change=0\n",
    "for i in l:\n",
    "    if(type(i)==dict):\n",
    "        for j,v in i.items():\n",
    "            if(type(j)==int):\n",
    "                mul=mul*j\n",
    "                change=1\n",
    "            if(type(v)==int):\n",
    "                mul=mul*v\n",
    "                change=1\n",
    "        if(change!=0):\n",
    "            print(mul)\n",
    "            mul=1\n",
    "            change=0\n",
    "    else:\n",
    "        for j in i:\n",
    "            if(type(j)==int):\n",
    "                mul=mul*j\n",
    "                change=1\n",
    "        if(change!=0):\n",
    "            print(mul)\n",
    "            mul=1\n",
    "            change=0\n",
    "        "
   ]
  },
  {
   "cell_type": "code",
   "execution_count": 61,
   "id": "b794375d",
   "metadata": {},
   "outputs": [
    {
     "name": "stdout",
     "output_type": "stream",
     "text": [
      "[1, 2, 3, 4, 2, 3, 4, 5, 6, 3, 4, 5, 6, 7, 45, 4, 5, 23, 'k1', 'sudh', 'k2', 'ineuron', 'k3', 'kumar', 3, 6, 7, 8, 'ineuron', 'data science']\n"
     ]
    }
   ],
   "source": [
    "#ques15 Try to unwarp all the collection inside collection \n",
    "#       and create a flat list\n",
    "l1=[]\n",
    "for i in l:\n",
    "    if(type(i)==dict):\n",
    "        for j,v in i.items():\n",
    "            l1.append(j)\n",
    "            l1.append(v)\n",
    "            \n",
    "    else:\n",
    "        for j in i:\n",
    "            l1.append(j)\n",
    "print(l1)\n",
    "        "
   ]
  }
 ],
 "metadata": {
  "kernelspec": {
   "display_name": "Python 3 (ipykernel)",
   "language": "python",
   "name": "python3"
  },
  "language_info": {
   "codemirror_mode": {
    "name": "ipython",
    "version": 3
   },
   "file_extension": ".py",
   "mimetype": "text/x-python",
   "name": "python",
   "nbconvert_exporter": "python",
   "pygments_lexer": "ipython3",
   "version": "3.9.7"
  }
 },
 "nbformat": 4,
 "nbformat_minor": 5
}
